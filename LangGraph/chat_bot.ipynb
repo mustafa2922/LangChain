{
 "cells": [
  {
   "cell_type": "code",
   "execution_count": null,
   "id": "1200839f",
   "metadata": {},
   "outputs": [],
   "source": [
    "from langgraph.graph import StateGraph, START, END\n",
    "from typing import TypedDict, Annotated\n",
    "from langchain_groq import ChatGroq\n",
    "from langchain_core.messages import BaseMessage, HumanMessage\n",
    "from langgraph.graph.message import add_messages\n",
    "from langgraph.checkpoint.memory import MemorySaver\n",
    "from dotenv import load_dotenv"
   ]
  },
  {
   "cell_type": "code",
   "execution_count": null,
   "id": "cf8c088a",
   "metadata": {},
   "outputs": [],
   "source": [
    "load_dotenv()\n",
    "\n",
    "checkpointer = MemorySaver()\n",
    "\n",
    "model = ChatGroq(\n",
    "    model=\"openai/gpt-oss-120b\",\n",
    "    temperature=0\n",
    ")"
   ]
  },
  {
   "cell_type": "code",
   "execution_count": null,
   "id": "d8a837c5",
   "metadata": {},
   "outputs": [],
   "source": [
    "class StateMessage(TypedDict):\n",
    "\n",
    "    messages: Annotated[list[BaseMessage], add_messages]"
   ]
  },
  {
   "cell_type": "code",
   "execution_count": null,
   "id": "8550c5ce",
   "metadata": {},
   "outputs": [],
   "source": [
    "def chat_node(state:StateMessage) -> StateMessage:\n",
    "\n",
    "    messages = state['messages']\n",
    "    response = model.invoke(messages)\n",
    "    return {'messages':[response]}"
   ]
  },
  {
   "cell_type": "code",
   "execution_count": null,
   "id": "d061fb1b",
   "metadata": {},
   "outputs": [],
   "source": [
    "graph = StateGraph(StateMessage)\n",
    "\n",
    "graph.add_node('chat_node',chat_node)\n",
    "\n",
    "graph.add_edge(START,'chat_node')\n",
    "graph.add_edge('chat_node',END)\n",
    "\n",
    "workflow = graph.compile(checkpointer=checkpointer)"
   ]
  },
  {
   "cell_type": "code",
   "execution_count": null,
   "id": "f8b6f42a",
   "metadata": {},
   "outputs": [],
   "source": [
    "initial_state = {\n",
    "    'messages':[HumanMessage(content='wassup buddy ?')]\n",
    "}\n",
    "workflow.invoke(initial_state)"
   ]
  },
  {
   "cell_type": "code",
   "execution_count": null,
   "id": "2015b35f",
   "metadata": {},
   "outputs": [],
   "source": [
    "thread_id = 1\n",
    "\n",
    "while True:\n",
    "    user_input = input('Type here: ')\n",
    "    print('User: ',user_input)\n",
    "    if user_input == 'exit':\n",
    "        break\n",
    "\n",
    "    config = {'configurable':{'thread_id':thread_id}}\n",
    "    response = workflow.invoke(\n",
    "        {'messages':[HumanMessage(content=user_input)]},\n",
    "        config=config\n",
    "    )\n",
    "\n",
    "    print('AI: ',response['messages'][-1].content)"
   ]
  }
 ],
 "metadata": {
  "kernelspec": {
   "display_name": "venv",
   "language": "python",
   "name": "python3"
  },
  "language_info": {
   "codemirror_mode": {
    "name": "ipython",
    "version": 3
   },
   "file_extension": ".py",
   "mimetype": "text/x-python",
   "name": "python",
   "nbconvert_exporter": "python",
   "pygments_lexer": "ipython3",
   "version": "3.11.9"
  }
 },
 "nbformat": 4,
 "nbformat_minor": 5
}
