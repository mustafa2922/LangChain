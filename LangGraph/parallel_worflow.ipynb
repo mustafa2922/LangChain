{
 "cells": [
  {
   "cell_type": "code",
   "execution_count": 2,
   "id": "dafd0106",
   "metadata": {},
   "outputs": [],
   "source": [
    "from langgraph.graph import StateGraph, START, END\n",
    "from typing import TypedDict\n",
    "from num2words import num2words\n",
    "from sympy import isprime\n",
    "from dotenv import load_dotenv"
   ]
  },
  {
   "cell_type": "code",
   "execution_count": 3,
   "id": "b7ceba9d",
   "metadata": {},
   "outputs": [
    {
     "data": {
      "text/plain": [
       "True"
      ]
     },
     "execution_count": 3,
     "metadata": {},
     "output_type": "execute_result"
    }
   ],
   "source": [
    "load_dotenv()"
   ]
  },
  {
   "cell_type": "code",
   "execution_count": 4,
   "id": "3aa65b97",
   "metadata": {},
   "outputs": [],
   "source": [
    "class Number_props(TypedDict):\n",
    "    num:int\n",
    "    spell: str\n",
    "    square:int\n",
    "    cube:int\n",
    "    digit_sum:int\n",
    "    prime_check:bool\n",
    "    palindrome_check:bool\n",
    "    armstrong_check:bool\n",
    "\n",
    "    summary:str\n"
   ]
  },
  {
   "cell_type": "code",
   "execution_count": 5,
   "id": "ccf42b24",
   "metadata": {},
   "outputs": [],
   "source": [
    "def get_spell(state:Number_props) -> Number_props:\n",
    "    return {'spell':num2words(state['num'])}\n",
    "\n",
    "def calc_square(state:Number_props) -> Number_props:\n",
    "    return {'square' : state['num'] ** 2}\n",
    "    \n",
    "def calc_cube(state:Number_props) -> Number_props:\n",
    "    return {'cube': state['num'] ** 3}\n",
    "\n",
    "def digit_sum(state:Number_props) -> Number_props:\n",
    "    return {'digit_sum': sum([int(i) for i in str(state['num'])])}\n",
    "\n",
    "def prime_check(state:Number_props) -> Number_props:\n",
    "    return {'prime_check': isprime(state['num'])}\n",
    "\n",
    "def palindrome_check(state:Number_props) -> Number_props:\n",
    "    return {'palindrome_check': str(state['num']) == str(state['num'])[::-1]}\n",
    "\n",
    "def armstrong_check(state:Number_props) -> Number_props:\n",
    "    return {'armstrong_check': state['num'] == sum([int(i)**int(len(str(state['num']))) for i in str(state['num'])])}\n",
    "\n",
    "def gen_summary(state:Number_props) -> Number_props:\n",
    "    return {\n",
    "    'summary' :  f'''\n",
    "    ==================== Summary ====================  \n",
    "    spelling: {state['spell']}\n",
    "    square: {state['square']}\n",
    "    cube: {state['cube']}\n",
    "    digit_sum: {state['digit_sum']}\n",
    "    prime_check: {state['prime_check']}\n",
    "    palindrome_check {state['palindrome_check']}\n",
    "    armstrong_check:bool {state['armstrong_check']}'''\n",
    "      }\n",
    "\n"
   ]
  },
  {
   "cell_type": "code",
   "execution_count": 6,
   "id": "52a8d249",
   "metadata": {},
   "outputs": [],
   "source": [
    "graph = StateGraph(Number_props)\n",
    "\n",
    "graph.add_node('get_spell',get_spell)\n",
    "graph.add_node('calc_square',calc_square)\n",
    "graph.add_node('calc_cube',calc_cube)\n",
    "graph.add_node('digit_sum',digit_sum)\n",
    "graph.add_node('prime_check',prime_check)\n",
    "graph.add_node('palindrome_check',palindrome_check)\n",
    "graph.add_node('armstrong_check',armstrong_check)\n",
    "graph.add_node('gen_summary',gen_summary)\n",
    "\n",
    "graph.add_edge(START, 'get_spell')\n",
    "graph.add_edge(START, 'calc_square')\n",
    "graph.add_edge(START, 'calc_cube')\n",
    "graph.add_edge(START, 'digit_sum')\n",
    "graph.add_edge(START, 'prime_check')\n",
    "graph.add_edge(START, 'palindrome_check')\n",
    "graph.add_edge(START, 'armstrong_check')\n",
    "\n",
    "graph.add_edge('get_spell','gen_summary')\n",
    "graph.add_edge('calc_square','gen_summary')\n",
    "graph.add_edge('calc_cube','gen_summary')\n",
    "graph.add_edge('digit_sum','gen_summary')\n",
    "graph.add_edge('prime_check','gen_summary')\n",
    "graph.add_edge('palindrome_check','gen_summary')\n",
    "graph.add_edge('armstrong_check','gen_summary')\n",
    "\n",
    "graph.add_edge('gen_summary',END)\n",
    "\n",
    "workflow = graph.compile()\n"
   ]
  },
  {
   "cell_type": "code",
   "execution_count": 9,
   "id": "29c21164",
   "metadata": {},
   "outputs": [
    {
     "name": "stdout",
     "output_type": "stream",
     "text": [
      "\n",
      "    ==================== Summary ====================  \n",
      "    spelling: three\n",
      "    square: 9\n",
      "    cube: 27\n",
      "    digit_sum: 3\n",
      "    prime_check: True\n",
      "    palindrome_check True\n",
      "    armstrong_check:bool True\n"
     ]
    }
   ],
   "source": [
    "initial_state = {'num':3}\n",
    "\n",
    "final_state = workflow.invoke(initial_state)\n",
    "\n",
    "print(final_state['summary'])"
   ]
  }
 ],
 "metadata": {
  "kernelspec": {
   "display_name": "venv",
   "language": "python",
   "name": "python3"
  },
  "language_info": {
   "codemirror_mode": {
    "name": "ipython",
    "version": 3
   },
   "file_extension": ".py",
   "mimetype": "text/x-python",
   "name": "python",
   "nbconvert_exporter": "python",
   "pygments_lexer": "ipython3",
   "version": "3.11.9"
  }
 },
 "nbformat": 4,
 "nbformat_minor": 5
}
