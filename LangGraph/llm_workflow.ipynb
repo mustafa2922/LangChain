{
 "cells": [
  {
   "cell_type": "code",
   "execution_count": 3,
   "id": "fedf14fc",
   "metadata": {},
   "outputs": [],
   "source": [
    "from langchain_groq import ChatGroq\n",
    "from dotenv import load_dotenv\n",
    "from langgraph.graph import START, END, StateGraph\n",
    "from typing import TypedDict"
   ]
  },
  {
   "cell_type": "code",
   "execution_count": 4,
   "id": "d3c1fe9d",
   "metadata": {},
   "outputs": [
    {
     "data": {
      "text/plain": [
       "True"
      ]
     },
     "execution_count": 4,
     "metadata": {},
     "output_type": "execute_result"
    }
   ],
   "source": [
    "load_dotenv()"
   ]
  },
  {
   "cell_type": "code",
   "execution_count": 25,
   "id": "51993ff4",
   "metadata": {},
   "outputs": [],
   "source": [
    "model = ChatGroq(\n",
    "    model=\"openai/gpt-oss-120b\",\n",
    "    temperature=1\n",
    ")\n",
    "\n",
    "class LLM_State(TypedDict):\n",
    "    question: str\n",
    "    response: str"
   ]
  },
  {
   "cell_type": "code",
   "execution_count": 26,
   "id": "bcc01bb8",
   "metadata": {},
   "outputs": [],
   "source": [
    "def chat_LLM(state:LLM_State) -> LLM_State:\n",
    "\n",
    "    question = state['question']\n",
    "    response = model.invoke(f'Answer this question {question}').content\n",
    "\n",
    "    state['response'] = response\n",
    "\n",
    "    return state"
   ]
  },
  {
   "cell_type": "code",
   "execution_count": 27,
   "id": "3128f3a8",
   "metadata": {},
   "outputs": [],
   "source": [
    "graph = StateGraph(LLM_State)\n",
    "\n",
    "graph.add_node('chat_LLM',chat_LLM)\n",
    "\n",
    "graph.add_edge(START,'chat_LLM')\n",
    "graph.add_edge('chat_LLM',END)\n",
    "\n",
    "workflow = graph.compile()"
   ]
  },
  {
   "cell_type": "code",
   "execution_count": 29,
   "id": "71697e10",
   "metadata": {},
   "outputs": [
    {
     "data": {
      "text/plain": [
       "'Hey! Not much—just here and ready to help. How’s it going with you?'"
      ]
     },
     "execution_count": 29,
     "metadata": {},
     "output_type": "execute_result"
    }
   ],
   "source": [
    "initial_state = {'question':'hey wassup ?'}\n",
    "final_state = workflow.invoke(initial_state)\n",
    "\n",
    "final_state['response']"
   ]
  }
 ],
 "metadata": {
  "kernelspec": {
   "display_name": "venv",
   "language": "python",
   "name": "python3"
  },
  "language_info": {
   "codemirror_mode": {
    "name": "ipython",
    "version": 3
   },
   "file_extension": ".py",
   "mimetype": "text/x-python",
   "name": "python",
   "nbconvert_exporter": "python",
   "pygments_lexer": "ipython3",
   "version": "3.11.9"
  }
 },
 "nbformat": 4,
 "nbformat_minor": 5
}
