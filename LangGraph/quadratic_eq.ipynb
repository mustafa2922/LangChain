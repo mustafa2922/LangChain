{
 "cells": [
  {
   "cell_type": "markdown",
   "id": "3b2cbcff",
   "metadata": {},
   "source": [
    "<h1>Conditional Workflow</h1>"
   ]
  },
  {
   "cell_type": "code",
   "execution_count": 37,
   "id": "ab37e720",
   "metadata": {},
   "outputs": [],
   "source": [
    "from langgraph.graph import StateGraph, START , END\n",
    "from typing import TypedDict, Literal"
   ]
  },
  {
   "cell_type": "code",
   "execution_count": 38,
   "id": "ebcf42e1",
   "metadata": {},
   "outputs": [],
   "source": [
    "class equation_state(TypedDict):\n",
    "    a: str\n",
    "    b: str\n",
    "    c: str\n",
    "\n",
    "    discriminant: float\n",
    "    equation: str\n",
    "    root: list[float]\n",
    "    result: str"
   ]
  },
  {
   "cell_type": "code",
   "execution_count": 46,
   "id": "913d64ba",
   "metadata": {},
   "outputs": [],
   "source": [
    "def get_equation_string(state:equation_state) -> equation_state:\n",
    "    return {'equation': f\"{state['a']}x²{'+' if state['b'] > 0 else '' }{state['b']}x{'+' if state['c'] > 0 else '' }{state['c']}\"}\n",
    "\n",
    "def eval_discriminant(state:equation_state) -> equation_state:\n",
    "    return {'discriminant': state['b']**2 - (4*state['a']*state['c'])}\n",
    "\n",
    "def distinct_roots(state:equation_state) -> equation_state:\n",
    "    root1 = (-state['b'] + (state['discriminant'])**0.5 )/2*state['a']\n",
    "    root2 = (-state['b'] - (state['discriminant'])**0.5 )/2*state['a']\n",
    "\n",
    "    return {'root': [root1, root2], 'result' : f\"Two distinct roots are \\nRoot1 = {root1}\\nRoot2 = {root2}\"}\n",
    "\n",
    "def repeated_roots(state:equation_state) -> equation_state:\n",
    "    root = (-state['b'])/2*state['a']\n",
    "\n",
    "    return {'root': [root], 'result' : f\"Only repeating root is {root}\"}\n",
    "\n",
    "def no_real_roots(state:equation_state) -> equation_state:\n",
    "    return {'root': [] , 'result' : 'No Real Roots for this equation'}\n",
    "\n",
    "def conditional_router(state:equation_state) -> Literal['distinct_roots','repeated_roots','no_real_roots']:\n",
    "    if state['discriminant'] > 0:\n",
    "        return 'distinct_roots'\n",
    "    elif state['discriminant'] < 0:\n",
    "        return 'no_real_roots'\n",
    "    else:\n",
    "        return 'repeated_roots'"
   ]
  },
  {
   "cell_type": "code",
   "execution_count": 47,
   "id": "bcc040ba",
   "metadata": {},
   "outputs": [],
   "source": [
    "graph = StateGraph(equation_state)\n",
    "\n",
    "graph.add_node('get_equation_string',get_equation_string)\n",
    "graph.add_node('eval_discriminant',eval_discriminant)\n",
    "graph.add_node('distinct_roots',distinct_roots)\n",
    "graph.add_node('repeated_roots',repeated_roots)\n",
    "graph.add_node('no_real_roots',no_real_roots)\n",
    "\n",
    "graph.add_edge(START, 'get_equation_string')\n",
    "graph.add_edge('get_equation_string', 'eval_discriminant')\n",
    "\n",
    "graph.add_conditional_edges('eval_discriminant',conditional_router)\n",
    "graph.add_edge('distinct_roots',END)\n",
    "graph.add_edge('repeated_roots',END)\n",
    "graph.add_edge('no_real_roots',END)\n",
    "\n",
    "workflow = graph.compile()"
   ]
  },
  {
   "cell_type": "code",
   "execution_count": 55,
   "id": "8d1b31c3",
   "metadata": {},
   "outputs": [
    {
     "name": "stdout",
     "output_type": "stream",
     "text": [
      "Two distinct roots are \n",
      "Root1 = -0.8348486100883203\n",
      "Root2 = -19.165151389911678\n"
     ]
    }
   ],
   "source": [
    "initial_state = {'a':2, 'b':10, 'c':2}\n",
    "\n",
    "print(workflow.invoke(initial_state)['result'])"
   ]
  }
 ],
 "metadata": {
  "kernelspec": {
   "display_name": "venv",
   "language": "python",
   "name": "python3"
  },
  "language_info": {
   "codemirror_mode": {
    "name": "ipython",
    "version": 3
   },
   "file_extension": ".py",
   "mimetype": "text/x-python",
   "name": "python",
   "nbconvert_exporter": "python",
   "pygments_lexer": "ipython3",
   "version": "3.11.9"
  }
 },
 "nbformat": 4,
 "nbformat_minor": 5
}
